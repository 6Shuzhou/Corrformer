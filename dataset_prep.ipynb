{
 "cells": [
  {
   "cell_type": "code",
   "execution_count": 65,
   "id": "203bc10f",
   "metadata": {},
   "outputs": [
    {
     "name": "stdout",
     "output_type": "stream",
     "text": [
      "Merged file: result (1).txt\n",
      "Merged file: result (2).txt\n",
      "Merged file: result (3).txt\n",
      "Merged file: result.txt\n"
     ]
    }
   ],
   "source": [
    "import glob\n",
    "\n",
    "files = sorted(glob.glob(\"result*.txt\"))\n",
    "\n",
    "with open(\"humidity_merged_results.txt\", \"w\", encoding=\"utf-8\") as fout:\n",
    "    for fn in files:\n",
    "        with open(fn, \"r\", encoding=\"utf-8\") as fin:\n",
    "\n",
    "            fout.write(fin.read())\n",
    "            fout.write(\"\\n\")  \n",
    "            print(f\"Merged file: {fn}\")\n"
   ]
  },
  {
   "cell_type": "code",
   "execution_count": 60,
   "id": "5606a7f8",
   "metadata": {},
   "outputs": [
    {
     "name": "stdout",
     "output_type": "stream",
     "text": [
      "Filtered results saved to: /Users/shuzhou/Downloads/humidity_merged_results_filtered.txt\n"
     ]
    }
   ],
   "source": [
    "import os\n",
    "\n",
    "input_file  = '/Users/shuzhou/Downloads/humidity_merged_results.txt'\n",
    "output_file = '/Users/shuzhou/Downloads/humidity_merged_results_filtered.txt'\n",
    "\n",
    "with open(input_file, 'r') as fin, open(output_file, 'w') as fout:\n",
    "    for line in fin:\n",
    "        # Preserve comment/header lines starting with '#'\n",
    "        if line.startswith('#'):\n",
    "            fout.write(line)\n",
    "            continue\n",
    "\n",
    "        # Split by comma, strip whitespace, and ensure there are at least 4 fields\n",
    "        parts = [p.strip() for p in line.rstrip('\\n').split(',')]\n",
    "        # Write only lines where the 4th field is non-empty\n",
    "        if len(parts) >= 4 and parts[3] != '':\n",
    "            fout.write(line)\n",
    "\n",
    "print(f\"Filtered results saved to: {output_file}\")\n"
   ]
  },
  {
   "cell_type": "code",
   "execution_count": 62,
   "id": "10754647",
   "metadata": {},
   "outputs": [
    {
     "name": "stdout",
     "output_type": "stream",
     "text": [
      "shape: (12280, 3850, 1)\n",
      "dtype: float64\n",
      "[[[ 10.]\n",
      "  [ 82.]\n",
      "  [ 88.]\n",
      "  ...\n",
      "  [270.]\n",
      "  [250.]\n",
      "  [250.]]]\n"
     ]
    }
   ],
   "source": [
    "\n",
    "import numpy as np\n",
    "\n",
    "path = '/Users/shuzhou/Downloads/capsule-0341365/data/global_temp/temp_global_hourly_train.npy'\n",
    "\n",
    "arr = np.load(path)\n",
    "\n",
    "print(\"shape:\", arr.shape)\n",
    "print(\"dtype:\", arr.dtype)\n",
    "\n",
    "print(arr[:1])"
   ]
  },
  {
   "cell_type": "code",
   "execution_count": 63,
   "id": "35d0d30f",
   "metadata": {},
   "outputs": [
    {
     "name": "stdout",
     "output_type": "stream",
     "text": [
      "shape: (12280,)\n",
      "dtype: <U19\n",
      "2019-01-01 01:00:00\n"
     ]
    }
   ],
   "source": [
    "import numpy as np\n",
    "\n",
    "path = '/Users/shuzhou/Downloads/capsule-0341365/data/global_temp/data_time_train.npy'\n",
    "\n",
    "arr = np.load(path)\n",
    "\n",
    "print(\"shape:\", arr.shape)\n",
    "print(\"dtype:\", arr.dtype)\n",
    "\n",
    "print(arr[1])\n"
   ]
  },
  {
   "cell_type": "code",
   "execution_count": 64,
   "id": "62294967",
   "metadata": {},
   "outputs": [
    {
     "name": "stdout",
     "output_type": "stream",
     "text": [
      "Conversion complete! Data saved to: /Users/shuzhou/Downloads/knmi_humidity_model_format/\n",
      "Number of stations: 34\n",
      "Total time points: 8784\n",
      "Training time points: 6148 (70.0%)\n",
      "Validation time points: 879 (10.0%)\n",
      "Test time points: 1757 (20.0%)\n",
      "Data shapes -> Train: (6148, 34, 1), Val: (879, 34, 1), Test: (1757, 34, 1)\n"
     ]
    }
   ],
   "source": [
    "import numpy as np\n",
    "import pandas as pd\n",
    "import os\n",
    "import re\n",
    "\n",
    "knmi_file = '/Users/shuzhou/Downloads/humidity_merged_results_filtered.txt'\n",
    "\n",
    "# Read station metadata from the header lines\n",
    "station_info = {}\n",
    "with open(knmi_file, 'r') as f:\n",
    "    for line in f:\n",
    "        # Match lines like: \"# <station_id> <longitude> <latitude> <elevation> ...\"\n",
    "        m = re.match(r'#\\s*(\\d+)\\s+([\\d\\.\\-]+)\\s+([\\d\\.\\-]+)\\s+([\\d\\.\\-]+)', line)\n",
    "        if m:\n",
    "            stn = int(m.group(1))\n",
    "            lon = float(m.group(2))\n",
    "            lat = float(m.group(3))\n",
    "            alt = float(m.group(4))\n",
    "            station_info[stn] = [lat, lon, alt]\n",
    "        if not line.startswith('#'):\n",
    "            break\n",
    "df = pd.read_csv(\n",
    "    knmi_file,\n",
    "    comment='#',\n",
    "    header=None,\n",
    "    names=['STN', 'YYYYMMDD', 'HH', 'U'],\n",
    "    skipinitialspace=True\n",
    ")\n",
    "\n",
    "df['date'] = pd.to_datetime(df['YYYYMMDD'], format='%Y%m%d')\n",
    "# Combine date and hour into a full datetime\n",
    "df['datetime'] = df['date'] + pd.to_timedelta(df['HH'], unit='h')\n",
    "# Format datetime as string for indexing\n",
    "df['datetime_str'] = df['datetime'].dt.strftime('%Y-%m-%d %H:%M:%S')\n",
    "\n",
    "# Get sorted list of unique station IDs\n",
    "unique_stations = sorted(df['STN'].unique())\n",
    "\n",
    "stations_array = np.array([\n",
    "    station_info[stn] for stn in unique_stations\n",
    "])\n",
    "\n",
    "#  Deduplicate timestamps and sort, then create arrays\n",
    "unique_times = sorted(df['datetime_str'].unique())\n",
    "time_array = np.array(unique_times, dtype=str)\n",
    "\n",
    "# Prepare a 3D array: [time, station, 1 feature]\n",
    "humidity_array = np.full((len(unique_times), len(unique_stations), 1), np.nan)\n",
    "\n",
    "# Create lookup maps for indexing\n",
    "station_indices = {stn: i for i, stn in enumerate(unique_stations)}\n",
    "time_indices = {t: i for i, t in enumerate(unique_times)}\n",
    "\n",
    "# Populate the humidity array\n",
    "for _, row in df.iterrows():\n",
    "    t_idx = time_indices[row['datetime_str']]\n",
    "    s_idx = station_indices[row['STN']]\n",
    "    humidity_array[t_idx, s_idx, 0] = row['U']\n",
    "\n",
    "# Split dataset by time (70% train, 10% val, 20% test)\n",
    "n_times = len(unique_times)\n",
    "train_end = int(n_times * 0.7)\n",
    "val_end = int(n_times * 0.8)\n",
    "\n",
    "train_time = time_array[:train_end]\n",
    "val_time   = time_array[train_end:val_end]\n",
    "test_time  = time_array[val_end:]\n",
    "\n",
    "train_humidity = humidity_array[:train_end, :, :]\n",
    "val_humidity   = humidity_array[train_end:val_end, :, :]\n",
    "test_humidity  = humidity_array[val_end:, :, :]\n",
    "\n",
    "output_dir = '/Users/shuzhou/Downloads/knmi_humidity_model_format/'\n",
    "os.makedirs(output_dir, exist_ok=True)\n",
    "np.save(os.path.join(output_dir, 'stations_sorted.npy'), stations_array)\n",
    "\n",
    "np.save(os.path.join(output_dir, 'data_time_train.npy'), train_time)\n",
    "np.save(os.path.join(output_dir, 'humidity_knmi_hourly_train.npy'), train_humidity)\n",
    "\n",
    "np.save(os.path.join(output_dir, 'data_time_val.npy'), val_time)\n",
    "np.save(os.path.join(output_dir, 'humidity_knmi_hourly_val.npy'), val_humidity)\n",
    "\n",
    "\n",
    "np.save(os.path.join(output_dir, 'data_time_test.npy'), test_time)\n",
    "np.save(os.path.join(output_dir, 'humidity_knmi_hourly_test.npy'), test_humidity)\n",
    "\n",
    "print(f\"Conversion complete! Data saved to: {output_dir}\")\n",
    "print(f\"Number of stations: {len(unique_stations)}\")\n",
    "print(f\"Total time points: {n_times}\")\n",
    "print(f\"Training time points: {len(train_time)} ({len(train_time)/n_times*100:.1f}%)\")\n",
    "print(f\"Validation time points: {len(val_time)} ({len(val_time)/n_times*100:.1f}%)\")\n",
    "print(f\"Test time points: {len(test_time)} ({len(test_time)/n_times*100:.1f}%)\")\n",
    "print(f\"Data shapes -> Train: {train_humidity.shape}, Val: {val_humidity.shape}, Test: {test_humidity.shape}\")\n"
   ]
  }
 ],
 "metadata": {
  "kernelspec": {
   "display_name": "base",
   "language": "python",
   "name": "python3"
  },
  "language_info": {
   "codemirror_mode": {
    "name": "ipython",
    "version": 3
   },
   "file_extension": ".py",
   "mimetype": "text/x-python",
   "name": "python",
   "nbconvert_exporter": "python",
   "pygments_lexer": "ipython3",
   "version": "3.13.2"
  }
 },
 "nbformat": 4,
 "nbformat_minor": 5
}
